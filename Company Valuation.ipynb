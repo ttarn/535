{
 "cells": [
  {
   "cell_type": "markdown",
   "metadata": {},
   "source": [
    "# Lab 2: Company Valuation"
   ]
  },
  {
   "cell_type": "code",
   "execution_count": 26,
   "metadata": {
    "collapsed": true
   },
   "outputs": [],
   "source": [
    "from numpy.random import choice\n",
    "import matplotlib.pyplot as plt\n",
    "#%matplotlib inline"
   ]
  },
  {
   "cell_type": "markdown",
   "metadata": {},
   "source": [
    "# 1. Net Present Value\n",
    "<b>a)</b> We can store B, C, and the interest rate in tuples, and then store the tuples in an array where the time t is equal to the index of the array<br>\n",
    "<br>\n",
    "<b>b)</b> Function:"
   ]
  },
  {
   "cell_type": "code",
   "execution_count": 11,
   "metadata": {
    "scrolled": true
   },
   "outputs": [
    {
     "name": "stdout",
     "output_type": "stream",
     "text": [
      "0.1383219954648527\n"
     ]
    }
   ],
   "source": [
    "def npv( info_array ):\n",
    "    \"\"\"Takes an array of tuples with cash inflow, cash outflow, and interest rate \n",
    "       Returns the net present value\"\"\"\n",
    "    \n",
    "    npv = 0\n",
    "    for t in range(0, len(info_array)):\n",
    "        info = info_array[t] #tuple at time t\n",
    "        netcf = info[0] - info[1]\n",
    "        pvcf = float(netcf)/((1+info[2])**t)\n",
    "        npv += pvcf\n",
    "        \n",
    "    return npv\n",
    "\n",
    "print(npv([(2,1,.05), (1,0,.05), (5,7,.05)]))"
   ]
  },
  {
   "cell_type": "markdown",
   "metadata": {},
   "source": [
    "## 3. Probabilistic Net Present Value\n",
    "<b>a)</b> The parameters of the random variable could be represented as a tuple containing 3 values. The first would be the amount of a success, the second would be the amount of a failure, and the third would be the probability of a success.<br>\n",
    "<br>\n",
    "<b>b)</b> Function to return expected net present value: "
   ]
  },
  {
   "cell_type": "code",
   "execution_count": 16,
   "metadata": {},
   "outputs": [
    {
     "name": "stdout",
     "output_type": "stream",
     "text": [
      "0.5\n",
      "2.6587301587301586\n"
     ]
    }
   ],
   "source": [
    "def e_bernoulli( dist ):\n",
    "    \"returns expected value of distribution\"\n",
    "    expected = dist[0]*dist[2] + dist[1]*(1-dist[2])\n",
    "    return expected\n",
    "\n",
    "print(e_bernoulli((1,0,0.5)))\n",
    "\n",
    "def e_npv( info_array, dist ):\n",
    "    \"\"\"Takes an array of tuples with cash inflow, cash outflow, and interest rate,\n",
    "       and a tuple for the Bernoulli random variable\n",
    "       Returns the net present value\"\"\"\n",
    "    \n",
    "    npv = 0\n",
    "    for t in range(0, len(info_array)):\n",
    "        info = info_array[t] #tuple at time t\n",
    "        netcf = e_bernoulli( dist ) - info[1]\n",
    "        pvcf = float(netcf)/((1+info[2])**t)\n",
    "        npv += pvcf\n",
    "        \n",
    "    return npv\n",
    "\n",
    "print(e_npv([(2,1,.05), (1,0,.05), (5,7,.05)], (5,2,0.5)))"
   ]
  },
  {
   "cell_type": "markdown",
   "metadata": {},
   "source": [
    "## 4. Probabilistic Net Present Value\n",
    "<b>a)</b> Function to return net present value with Bernoulli random variable:"
   ]
  },
  {
   "cell_type": "code",
   "execution_count": 40,
   "metadata": {},
   "outputs": [
    {
     "name": "stdout",
     "output_type": "stream",
     "text": [
      "[1]\n",
      "-1.6303854875283448\n"
     ]
    }
   ],
   "source": [
    "def bernoulli( dist ):\n",
    "    \"Takes a tuple with success, fail, and p, and returns a value\"\n",
    "    draw = choice([dist[0], dist[1]], 1, p=[dist[2], 1-dist[2]])\n",
    "    return draw\n",
    "\n",
    "print(bernoulli((1,0,0.5)))\n",
    "\n",
    "def p_npv( info_array, dist ):\n",
    "    \"\"\"Takes an array of tuples with cash inflow, cash outflow, and interest rate,\n",
    "       and a tuple for the Bernoulli random variable\n",
    "       Returns the net present value\"\"\"\n",
    "    \n",
    "    npv = 0\n",
    "    for t in range(0, len(info_array)):\n",
    "        info = info_array[t] #tuple at time t\n",
    "        netcf = bernoulli( dist ) - info[1]\n",
    "        pvcf = float(netcf)/((1+info[2])**t)\n",
    "        npv += pvcf\n",
    "        \n",
    "    return npv\n",
    "\n",
    "print(p_npv([(2,1,.05), (1,0,.05), (5,7,.05)], (5,2,0.5)))"
   ]
  },
  {
   "cell_type": "markdown",
   "metadata": {},
   "source": [
    "<b>b)</b> Record and store net present value k times:"
   ]
  },
  {
   "cell_type": "code",
   "execution_count": 59,
   "metadata": {
    "collapsed": true
   },
   "outputs": [],
   "source": [
    "values = []\n",
    "k = 100\n",
    "for x in range(0,k):\n",
    "    values.append(p_npv([(2,1,.05), (1,0,.05), (5,3,.05), (1,0,.05)], (5,2,0.5)))"
   ]
  },
  {
   "cell_type": "markdown",
   "metadata": {},
   "source": [
    "<b>c)</b> Histogram of the net present values"
   ]
  },
  {
   "cell_type": "code",
   "execution_count": 61,
   "metadata": {},
   "outputs": [
    {
     "data": {
      "image/png": "[encoded data removed]",
      "text/plain": [
       "<matplotlib.figure.Figure at 0x20c2b918a90>"
      ]
     },
     "metadata": {},
     "output_type": "display_data"
    }
   ],
   "source": [
    "def plot_hist(values):\n",
    "    plt.hist(values)\n",
    "    title = 'net present values, k=' + str(k)\n",
    "    plt.title(title)\n",
    "    plt.show()\n",
    "    \n",
    "plot_hist(values)"
   ]
  },
  {
   "cell_type": "markdown",
   "metadata": {},
   "source": [
    "<b>d)</b> If the interest rate were random, we could write a function to find the expected value of the interest rate. This can be done by simply multiplying the probability of getting a certain interest rate with that interest rate, and getting the sum. Afterwards, this value can be passed in separately into the net present value function above, similar to how the expected Bernoulli net present value was calculated."
   ]
  }
 ],
 "metadata": {
  "kernelspec": {
   "display_name": "Python 3",
   "language": "python",
   "name": "python3"
  },
  "language_info": {
   "codemirror_mode": {
    "name": "ipython",
    "version": 3
   },
   "file_extension": ".py",
   "mimetype": "text/x-python",
   "name": "python",
   "nbconvert_exporter": "python",
   "pygments_lexer": "ipython3",
   "version": "3.6.3"
  }
 },
 "nbformat": 4,
 "nbformat_minor": 2
}
