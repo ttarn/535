{
 "cells": [
  {
   "cell_type": "markdown",
   "metadata": {},
   "source": [
    "# Lab 2: Company Valuation"
   ]
  },
  {
   "cell_type": "code",
   "execution_count": 1,
   "metadata": {
    "collapsed": true
   },
   "outputs": [],
   "source": [
    "from numpy.random import choice"
   ]
  },
  {
   "cell_type": "markdown",
   "metadata": {},
   "source": [
    "## 1. Net Present Value\n",
    "a) Store B, C, and interest in array of tuples\n",
    "b) Function:"
   ]
  },
  {
   "cell_type": "code",
   "execution_count": 16,
   "metadata": {},
   "outputs": [
    {
     "name": "stdout",
     "output_type": "stream",
     "text": [
      "0.1383219954648527\n"
     ]
    }
   ],
   "source": [
    "def npv( info_array ):\n",
    "    \"Takes an array of tuples with cashflows and interest rate, returns the net present value\"\n",
    "    npv = 0\n",
    "    for t in range(0, len(info_array)):\n",
    "        info = info_array[t] #tuple at time t\n",
    "        netcf = info[0] - info[1]\n",
    "        pvcf = float(netcf)/((1+info[2])**t)\n",
    "        npv += pvcf\n",
    "        \n",
    "    return npv\n",
    "\n",
    "print(npv([(2,1,5), (1,0,.05), (5,7,.05)]))"
   ]
  },
  {
   "cell_type": "code",
   "execution_count": 15,
   "metadata": {},
   "outputs": [
    {
     "name": "stdout",
     "output_type": "stream",
     "text": [
      "0.5\n",
      "[1]\n"
     ]
    }
   ],
   "source": [
    "def e_bernoulli( dist ):\n",
    "    \"returns expected value of distribution\"\n",
    "    expected = dist[0]*dist[2] + dist[1]*(1-dist[2])\n",
    "    return expected\n",
    "\n",
    "print(e_bernoulli((1,0,0.5)))\n",
    "\n",
    "def bernoulli( dist ):\n",
    "    \"Takes a tuple with success, fail, and p, and returns a value\"\n",
    "    draw = choice([dist[0], dist[1]], 1, p=[dist[2], 1-dist[2]])\n",
    "    return draw\n",
    "\n",
    "print(bernoulli((1,0,0.5)))"
   ]
  },
  {
   "cell_type": "code",
   "execution_count": null,
   "metadata": {
    "collapsed": true
   },
   "outputs": [],
   "source": [
    "def plot_hist(n):\n",
    "    \n",
    "    values = []\n",
    "    for i in range(0,n):\n",
    "        \n",
    "        \n",
    "    _, mc_scores = ps3a.play_n_mc_hand(hand, N, n)\n",
    "    # IMPLEMENT ME\n",
    "    plt.hist(mc_scores)\n",
    "    title = 'word score histogram: N = ' + str(N) + ', n = ' + str(n)\n",
    "    plt.title(title)\n",
    "    plt.show()"
   ]
  }
 ],
 "metadata": {
  "kernelspec": {
   "display_name": "Python 3",
   "language": "python",
   "name": "python3"
  },
  "language_info": {
   "codemirror_mode": {
    "name": "ipython",
    "version": 3
   },
   "file_extension": ".py",
   "mimetype": "text/x-python",
   "name": "python",
   "nbconvert_exporter": "python",
   "pygments_lexer": "ipython3",
   "version": "3.6.3"
  }
 },
 "nbformat": 4,
 "nbformat_minor": 2
}
