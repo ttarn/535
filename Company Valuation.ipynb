{
 "cells": [
  {
   "cell_type": "markdown",
   "metadata": {},
   "source": [
    "# Lab 2: Company Valuation"
   ]
  },
  {
   "cell_type": "code",
   "execution_count": 24,
   "metadata": {
    "collapsed": true
   },
   "outputs": [],
   "source": [
    "from numpy.random import choice\n",
    "import matplotlib.pyplot as plt\n",
    "import numpy.random"
   ]
  },
  {
   "cell_type": "markdown",
   "metadata": {},
   "source": [
    "# 1. Net Present Value\n",
    "<b>a)</b> We can store B, C, and the interest rate in tuples, and then store the tuples in an array where the time t is equal to the index of the array<br>\n",
    "<br>\n",
    "<b>b)</b> Function:"
   ]
  },
  {
   "cell_type": "code",
   "execution_count": 2,
   "metadata": {
    "scrolled": true
   },
   "outputs": [
    {
     "name": "stdout",
     "output_type": "stream",
     "text": [
      "0.1383219954648527\n"
     ]
    }
   ],
   "source": [
    "def npv( info_array ):\n",
    "    \"\"\"Takes an array of tuples with cash inflow, cash outflow, and interest rate \n",
    "       Returns the net present value\"\"\"\n",
    "    \n",
    "    npv = 0\n",
    "    for t in range(0, len(info_array)):\n",
    "        info = info_array[t] #tuple at time t\n",
    "        netcf = info[0] - info[1]\n",
    "        pvcf = float(netcf)/((1+info[2])**t)\n",
    "        npv += pvcf\n",
    "        \n",
    "    return npv\n",
    "\n",
    "print(npv([(2,1,.05), (1,0,.05), (5,7,.05)]))"
   ]
  },
  {
   "cell_type": "markdown",
   "metadata": {},
   "source": [
    "## 3. Probabilistic Net Present Value\n",
    "<b>a)</b> The parameters of the random variable could be represented as a tuple containing 3 values. The first would be the amount of a success, the second would be the amount of a failure, and the third would be the probability of a success.<br>\n",
    "<br>\n",
    "<b>b)</b> Function to return expected net present value: "
   ]
  },
  {
   "cell_type": "code",
   "execution_count": 3,
   "metadata": {},
   "outputs": [
    {
     "name": "stdout",
     "output_type": "stream",
     "text": [
      "0.5\n",
      "2.6587301587301586\n"
     ]
    }
   ],
   "source": [
    "def e_bernoulli( dist ):\n",
    "    \"returns expected value of distribution\"\n",
    "    expected = dist[0]*dist[2] + dist[1]*(1-dist[2])\n",
    "    return expected\n",
    "\n",
    "print(e_bernoulli((1,0,0.5)))\n",
    "\n",
    "def e_npv( info_array, dist ):\n",
    "    \"\"\"Takes an array of tuples with cash inflow, cash outflow, and interest rate,\n",
    "       and a tuple for the Bernoulli random variable\n",
    "       Returns the net present value\"\"\"\n",
    "    \n",
    "    npv = 0\n",
    "    for t in range(0, len(info_array)):\n",
    "        info = info_array[t] #tuple at time t\n",
    "        netcf = e_bernoulli( dist ) - info[1]\n",
    "        pvcf = float(netcf)/((1+info[2])**t)\n",
    "        npv += pvcf\n",
    "        \n",
    "    return npv\n",
    "\n",
    "print(e_npv([(2,1,.05), (1,0,.05), (5,7,.05)], (5,2,0.5)))"
   ]
  },
  {
   "cell_type": "markdown",
   "metadata": {},
   "source": [
    "## 4. Probabilistic Net Present Value\n",
    "<b>a)</b> Function to return net present value with Bernoulli random variable:"
   ]
  },
  {
   "cell_type": "code",
   "execution_count": 4,
   "metadata": {},
   "outputs": [
    {
     "name": "stdout",
     "output_type": "stream",
     "text": [
      "[0]\n",
      "4.090702947845806\n"
     ]
    }
   ],
   "source": [
    "def bernoulli( dist ):\n",
    "    \"Takes a tuple with success, fail, and p, and returns a value\"\n",
    "    draw = choice([dist[0], dist[1]], 1, p=[dist[2], 1-dist[2]])\n",
    "    return draw\n",
    "\n",
    "print(bernoulli((1,0,0.5)))\n",
    "\n",
    "def p_npv( info_array, dist ):\n",
    "    \"\"\"Takes an array of tuples with cash inflow, cash outflow, and interest rate,\n",
    "       and a tuple for the Bernoulli random variable\n",
    "       Returns the net present value\"\"\"\n",
    "    \n",
    "    npv = 0\n",
    "    for t in range(0, len(info_array)):\n",
    "        info = info_array[t] #tuple at time t\n",
    "        netcf = bernoulli( dist ) - info[1]\n",
    "        pvcf = float(netcf)/((1+info[2])**t)\n",
    "        npv += pvcf\n",
    "        \n",
    "    return npv\n",
    "\n",
    "print(p_npv([(2,1,.05), (1,0,.05), (5,7,.05)], (5,2,0.5)))"
   ]
  },
  {
   "cell_type": "markdown",
   "metadata": {},
   "source": [
    "<b>b)</b> Record and store net present value k times:"
   ]
  },
  {
   "cell_type": "code",
   "execution_count": 5,
   "metadata": {
    "collapsed": true
   },
   "outputs": [],
   "source": [
    "values = []\n",
    "k = 100\n",
    "for x in range(0,k):\n",
    "    values.append(p_npv([(2,1,.05), (1,0,.05), (5,3,.05), (1,0,.05)], (5,2,0.5)))"
   ]
  },
  {
   "cell_type": "markdown",
   "metadata": {},
   "source": [
    "<b>c)</b> Histogram of the net present values"
   ]
  },
  {
   "cell_type": "code",
   "execution_count": 6,
   "metadata": {},
   "outputs": [
    {
     "data": {
      "image/png": "[encoded data removed]",
      "text/plain": [
       "<matplotlib.figure.Figure at 0x239de0f1198>"
      ]
     },
     "metadata": {},
     "output_type": "display_data"
    }
   ],
   "source": [
    "def plot_hist(values):\n",
    "    plt.hist(values)\n",
    "    title = 'net present values, k=' + str(k)\n",
    "    plt.title(title)\n",
    "    plt.show()\n",
    "    \n",
    "plot_hist(values)"
   ]
  },
  {
   "cell_type": "markdown",
   "metadata": {},
   "source": [
    "<b>d)</b> If the interest rate were random, we could write a function to find the expected value of the interest rate. This can be done by simply multiplying the probability of getting a certain interest rate with that interest rate, and getting the sum. Afterwards, this value can be passed in separately into the net present value function above, similar to how the expected Bernoulli net present value was calculated."
   ]
  },
  {
   "cell_type": "code",
   "execution_count": 7,
   "metadata": {},
   "outputs": [
    {
     "name": "stdout",
     "output_type": "stream",
     "text": [
      "[['Date', 'Dividends'], ['2017-05-11', '0.63'], ['2017-08-10', '0.63'], ['2017-11-10', '0.63'], ['2018-02-09', '0.63']]\n"
     ]
    }
   ],
   "source": [
    "import csv\n",
    "\n",
    "with open('AAPL.csv', 'r') as f:\n",
    "  reader = csv.reader(f)\n",
    "  AAPL = list(reader)\n",
    "\n",
    "print(AAPL)"
   ]
  },
  {
   "cell_type": "code",
   "execution_count": 8,
   "metadata": {},
   "outputs": [
    {
     "name": "stdout",
     "output_type": "stream",
     "text": [
      "125.76607736981033\n"
     ]
    }
   ],
   "source": [
    "AAPL_list = []\n",
    "\n",
    "for i in range(0, 1000):\n",
    "    AAPL_list.append((0.63, 0, .005))\n",
    "\n",
    "print(npv(AAPL_list))"
   ]
  },
  {
   "cell_type": "markdown",
   "metadata": {},
   "source": [
    "Assume market price is fair.\n",
    "\n",
    "## Most Recent Dividend for Microsoft"
   ]
  },
  {
   "cell_type": "code",
   "execution_count": 35,
   "metadata": {},
   "outputs": [
    {
     "name": "stdout",
     "output_type": "stream",
     "text": [
      "83.84405157987351\n"
     ]
    }
   ],
   "source": [
    "MSFT_list = []\n",
    "\n",
    "for i in range(0, 1000):\n",
    "    MSFT_list.append((0.42, 0, .005))\n",
    "\n",
    "print(npv(MSFT_list))"
   ]
  },
  {
   "cell_type": "markdown",
   "metadata": {},
   "source": [
    "## Normal Distribution for Microsoft Dividends"
   ]
  },
  {
   "cell_type": "code",
   "execution_count": 14,
   "metadata": {},
   "outputs": [
    {
     "name": "stdout",
     "output_type": "stream",
     "text": [
      "[['Date', 'Dividends'], ['5/14/2013', '0.23'], ['8/13/2013', '0.23'], ['11/19/2013', '0.28'], ['2/18/2014', '0.28'], ['5/13/2014', '0.28'], ['8/19/2014', '0.28'], ['11/18/2014', '0.31'], ['2/17/2015', '0.31'], ['5/19/2015', '0.31'], ['8/18/2015', '0.31'], ['11/17/2015', '0.36'], ['2/16/2016', '0.36'], ['5/17/2016', '0.36'], ['8/16/2016', '0.36'], ['11/15/2016', '0.39'], ['2/14/2017', '0.39'], ['5/16/2017', '0.39'], ['8/15/2017', '0.39'], ['11/15/2017', '0.42'], ['2/14/2018', '0.42']]\n"
     ]
    }
   ],
   "source": [
    "with open('MSFT.csv', 'r') as f:\n",
    "  reader = csv.reader(f)\n",
    "  MSFT = list(reader)\n",
    "\n",
    "print(MSFT)"
   ]
  },
  {
   "cell_type": "code",
   "execution_count": 20,
   "metadata": {},
   "outputs": [
    {
     "name": "stdout",
     "output_type": "stream",
     "text": [
      "[0.23, 0.23, 0.28, 0.28, 0.28, 0.28, 0.31, 0.31, 0.31, 0.31, 0.36, 0.36, 0.36, 0.36, 0.39, 0.39, 0.39, 0.39, 0.42, 0.42]\n"
     ]
    }
   ],
   "source": [
    "MSFT_dividends = []\n",
    "\n",
    "for i in range(1, len(MSFT)):\n",
    "    MSFT_dividends.append(float(MSFT[i][1]))\n",
    "    \n",
    "print(MSFT_dividends)"
   ]
  },
  {
   "cell_type": "code",
   "execution_count": 22,
   "metadata": {},
   "outputs": [
    {
     "name": "stdout",
     "output_type": "stream",
     "text": [
      "0.333\n",
      "0.057280013966478735\n"
     ]
    }
   ],
   "source": [
    "import statistics\n",
    "\n",
    "MSFT_mean = statistics.mean(MSFT_dividends)\n",
    "MSFT_sd = statistics.pstdev(MSFT_dividends)\n",
    "\n",
    "print(MSFT_mean)\n",
    "print(MSFT_sd)"
   ]
  },
  {
   "cell_type": "code",
   "execution_count": 30,
   "metadata": {},
   "outputs": [
    {
     "name": "stdout",
     "output_type": "stream",
     "text": [
      "[ 0.330042]\n"
     ]
    }
   ],
   "source": [
    "def normal( mean, sd ):\n",
    "    \"Takes mean, sd, and returns a value\"\n",
    "    draw = s = numpy.random.normal(mean, sd, 1)\n",
    "    return draw\n",
    "\n",
    "print(normal(MSFT_mean, MSFT_sd))"
   ]
  },
  {
   "cell_type": "code",
   "execution_count": 34,
   "metadata": {},
   "outputs": [
    {
     "name": "stdout",
     "output_type": "stream",
     "text": [
      "66.54032160605338\n"
     ]
    }
   ],
   "source": [
    "MSFT_list = []\n",
    "\n",
    "for i in range(0, 1000):\n",
    "    MSFT_list.append((normal(MSFT_mean, MSFT_sd), 0, .005))\n",
    "\n",
    "print(npv(MSFT_list))"
   ]
  },
  {
   "cell_type": "code",
   "execution_count": null,
   "metadata": {
    "collapsed": true
   },
   "outputs": [],
   "source": []
  }
 ],
 "metadata": {
  "kernelspec": {
   "display_name": "Python 3",
   "language": "python",
   "name": "python3"
  },
  "language_info": {
   "codemirror_mode": {
    "name": "ipython",
    "version": 3
   },
   "file_extension": ".py",
   "mimetype": "text/x-python",
   "name": "python",
   "nbconvert_exporter": "python",
   "pygments_lexer": "ipython3",
   "version": "3.6.3"
  }
 },
 "nbformat": 4,
 "nbformat_minor": 2
}
